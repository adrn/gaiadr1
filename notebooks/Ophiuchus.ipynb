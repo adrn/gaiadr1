{
 "cells": [
  {
   "cell_type": "markdown",
   "metadata": {},
   "source": [
    "Based on these plots, the search criteria should be:\n",
    "* $|l| < 15^\\circ$\n",
    "* $-20^\\circ < b < 40^\\circ$\n",
    "* G > 10\n",
    "* $\\mu_b < -10~{\\rm mas}~{\\rm yr}^{-1}$"
   ]
  },
  {
   "cell_type": "code",
   "execution_count": null,
   "metadata": {
    "collapsed": false
   },
   "outputs": [],
   "source": [
    "import os\n",
    "\n",
    "from astropy.io import fits\n",
    "import astropy.coordinates as coord\n",
    "import astropy.units as u\n",
    "import h5py\n",
    "\n",
    "from gala.observation import apparent_magnitude\n",
    "import gala.dynamics as gd\n",
    "import gala.coordinates as gc\n",
    "import numpy as np\n",
    "\n",
    "import matplotlib.pyplot as plt\n",
    "from mpl_toolkits.mplot3d import Axes3D\n",
    "plt.style.use('apw-notebook')\n",
    "plt.rcParams['figure.dpi'] = 72\n",
    "%matplotlib notebook"
   ]
  },
  {
   "cell_type": "code",
   "execution_count": null,
   "metadata": {
    "collapsed": false
   },
   "outputs": [],
   "source": [
    "tgas_path = os.path.abspath(\"../data/tgas.hdf5\")"
   ]
  },
  {
   "cell_type": "code",
   "execution_count": null,
   "metadata": {
    "collapsed": false
   },
   "outputs": [],
   "source": [
    "d = np.load(\"../data/best-ophiuchus-model.npy\")"
   ]
  },
  {
   "cell_type": "code",
   "execution_count": null,
   "metadata": {
    "collapsed": false
   },
   "outputs": [],
   "source": [
    "oph = gd.CartesianPhaseSpacePosition(pos=d[:3]*u.kpc, \n",
    "                                     vel=d[3:]*u.kpc/u.Myr)"
   ]
  },
  {
   "cell_type": "code",
   "execution_count": null,
   "metadata": {
    "collapsed": false
   },
   "outputs": [],
   "source": [
    "fig,ax = plt.subplots(figsize=(10,10), subplot_kw=dict(projection='3d'))\n",
    "ax.plot(*oph.pos, linestyle='none')\n",
    "ax.set_xlim(-15,15)\n",
    "ax.set_ylim(-15,15)\n",
    "ax.set_zlim(-15,15)"
   ]
  },
  {
   "cell_type": "code",
   "execution_count": null,
   "metadata": {
    "collapsed": true
   },
   "outputs": [],
   "source": [
    "idx = ((oph.pos[0] < 0*u.kpc) & (oph.pos[0] > -6*u.kpc) &\n",
    "       (oph.pos[1] > -1*u.kpc) & (oph.pos[1] < 1*u.kpc) &\n",
    "       (oph.pos[2] > -5*u.kpc) & (oph.pos[1] < 5*u.kpc))\n",
    "       \n",
    "oph_box = oph[idx]"
   ]
  },
  {
   "cell_type": "code",
   "execution_count": null,
   "metadata": {
    "collapsed": false
   },
   "outputs": [],
   "source": [
    "fig,ax = plt.subplots(figsize=(8,8), subplot_kw=dict(projection='3d'))\n",
    "ax.plot(*oph_box.pos, linestyle='none')\n",
    "ax.set_xlim(-15,15)\n",
    "ax.set_ylim(-15,15)\n",
    "ax.set_zlim(-15,15)"
   ]
  },
  {
   "cell_type": "code",
   "execution_count": null,
   "metadata": {
    "collapsed": true
   },
   "outputs": [],
   "source": [
    "gal,gal_v = oph_box.to_frame(coord.Galactic)"
   ]
  },
  {
   "cell_type": "code",
   "execution_count": null,
   "metadata": {
    "collapsed": false
   },
   "outputs": [],
   "source": [
    "plt.figure()\n",
    "plt.plot(gal_v[0].to(u.mas/u.yr), gal_v[1].to(u.mas/u.yr), linestyle='none')\n",
    "# plt.xlim(-60,60)\n",
    "plt.xlabel('$\\mu_l$ [deg]')\n",
    "plt.ylabel('$\\mu_b$ [deg]')"
   ]
  },
  {
   "cell_type": "code",
   "execution_count": null,
   "metadata": {
    "collapsed": false,
    "scrolled": false
   },
   "outputs": [],
   "source": [
    "plt.figure()\n",
    "plt.plot(gal.b.to(u.degree), gal_v[0].to(u.mas/u.yr), linestyle='none')\n",
    "plt.xlim(-60,60)\n",
    "plt.xlabel('$b$ [deg]')\n",
    "plt.ylabel('$\\mu_l$ [deg]')"
   ]
  },
  {
   "cell_type": "code",
   "execution_count": null,
   "metadata": {
    "collapsed": false
   },
   "outputs": [],
   "source": [
    "plt.figure()\n",
    "plt.plot(gal.b.to(u.degree), gal_v[1].to(u.mas/u.yr), linestyle='none')\n",
    "plt.xlabel('$b$ [deg]')\n",
    "plt.ylabel(r'$\\mu_b$ [mas/yr]')\n",
    "plt.xlim(-60,60)"
   ]
  },
  {
   "cell_type": "code",
   "execution_count": null,
   "metadata": {
    "collapsed": false
   },
   "outputs": [],
   "source": [
    "plt.figure()\n",
    "plt.plot(gal.b.to(u.degree), gal.distance.to(u.kpc), linestyle='none')\n",
    "plt.xlabel('$b$ [deg]')\n",
    "plt.ylabel(r'$d_\\odot$ [kpc]')\n",
    "plt.xlim(-60,60)\n",
    "plt.ylim(0, 10)"
   ]
  },
  {
   "cell_type": "code",
   "execution_count": null,
   "metadata": {
    "collapsed": false
   },
   "outputs": [],
   "source": [
    "plt.figure()\n",
    "plt.plot(gal.b.to(u.degree), apparent_magnitude(0, gal.distance.to(u.kpc)), \n",
    "         linestyle='none', label='BHB', alpha=0.5)\n",
    "plt.plot(gal.b.to(u.degree), apparent_magnitude(-2, gal.distance.to(u.kpc)), \n",
    "         linestyle='none', label='KG hi', alpha=0.5)\n",
    "plt.plot(gal.b.to(u.degree), apparent_magnitude(0.5, gal.distance.to(u.kpc)), \n",
    "         linestyle='none', label='KG lo', alpha=0.5)\n",
    "\n",
    "plt.xlabel('$b$ [deg]')\n",
    "plt.ylabel(r'$m$ [mag]')\n",
    "\n",
    "plt.xlim(-60,60)\n",
    "plt.ylim(10, 15)\n",
    "\n",
    "plt.axhline(12.5, linestyle='dashed')\n",
    "\n",
    "plt.legend()"
   ]
  },
  {
   "cell_type": "code",
   "execution_count": null,
   "metadata": {
    "collapsed": true
   },
   "outputs": [],
   "source": [
    "icrs = gal.transform_to(coord.ICRS)"
   ]
  },
  {
   "cell_type": "code",
   "execution_count": null,
   "metadata": {
    "collapsed": false
   },
   "outputs": [],
   "source": [
    "plt.figure()\n",
    "plt.plot(icrs.ra.to(u.degree), icrs.dec.to(u.degree),\n",
    "         linestyle='none', alpha=0.5)\n",
    "plt.xlim(360, 0)\n",
    "plt.ylim(-60,60)"
   ]
  },
  {
   "cell_type": "markdown",
   "metadata": {
    "collapsed": true
   },
   "source": [
    "## Load Gaia!"
   ]
  },
  {
   "cell_type": "code",
   "execution_count": null,
   "metadata": {
    "collapsed": false
   },
   "outputs": [],
   "source": [
    "with h5py.File(tgas_path, 'r') as f:\n",
    "    tgas_c = coord.SkyCoord(ra=f['tgas']['ra']*u.degree, dec=f['tgas']['dec']*u.degree, \n",
    "                            distance=(f['tgas']['parallax']*u.mas).to(u.kpc, equivalencies=u.parallax()))\n",
    "    Gmag = f['tgas']['phot_g_mean_mag']\n",
    "    parallax = f['tgas']['parallax']*u.mas\n",
    "    \n",
    "    pm = np.vstack((f['tgas']['pmra'], f['tgas']['pmdec']))*u.mas/u.yr\n",
    "    \n",
    "    parallax_err = f['tgas']['parallax_error']*u.mas\n",
    "    pm_err = np.vstack((f['tgas']['pmra_error'], f['tgas']['pmdec_error']))*u.mas/u.yr"
   ]
  },
  {
   "cell_type": "code",
   "execution_count": null,
   "metadata": {
    "collapsed": true
   },
   "outputs": [],
   "source": [
    "pml,pmb = gc.pm_icrs_to_gal(tgas_c, pm)"
   ]
  },
  {
   "cell_type": "code",
   "execution_count": null,
   "metadata": {
    "collapsed": true
   },
   "outputs": [],
   "source": [
    "tgas_gal = tgas_c.galactic"
   ]
  },
  {
   "cell_type": "code",
   "execution_count": null,
   "metadata": {
    "collapsed": false
   },
   "outputs": [],
   "source": [
    "pm_SN = np.sqrt(np.sum(pm**2, axis=0) / np.sum(pm_err**2, axis=0))"
   ]
  },
  {
   "cell_type": "code",
   "execution_count": null,
   "metadata": {
    "collapsed": false
   },
   "outputs": [],
   "source": [
    "idx = ((np.abs(tgas_gal.l) < 10*u.deg) & \n",
    "       (tgas_gal.b > -40*u.deg) & (tgas_gal.b < 90*u.deg) &\n",
    "       (Gmag > 10) &\n",
    "       (pml < 0*u.mas/u.yr) & (pmb > 0*u.mas/u.yr) & \n",
    "       (pm_SN > 10) & \n",
    "       (parallax.to(u.kpc, equivalencies=u.parallax()) > 1.*u.kpc))"
   ]
  },
  {
   "cell_type": "code",
   "execution_count": null,
   "metadata": {
    "collapsed": false
   },
   "outputs": [],
   "source": [
    "fig,axes = plt.subplots(1,2,figsize=(10,5))\n",
    "axes[0].hist(parallax[idx], bins=np.linspace(0, 25, 32))\n",
    "axes[0].set_yscale('log')\n",
    "\n",
    "axes[1].hist(1/parallax[idx], bins=np.linspace(0, 10, 32))\n",
    "axes[1].set_yscale('log')"
   ]
  },
  {
   "cell_type": "code",
   "execution_count": null,
   "metadata": {
    "collapsed": true
   },
   "outputs": [],
   "source": [
    "bins = (np.linspace(-25,0,64), np.linspace(0,25,64))\n",
    "H,xedg,yedg = np.histogram2d(gal_v[0].to(u.mas/u.yr), gal_v[1].to(u.mas/u.yr), bins=bins)"
   ]
  },
  {
   "cell_type": "code",
   "execution_count": null,
   "metadata": {
    "collapsed": false
   },
   "outputs": [],
   "source": [
    "plt.figure()\n",
    "plt.plot(pml.to(u.mas/u.yr).value[idx], # & (1/parallax > 2)], \n",
    "         pmb.to(u.mas/u.yr).value[idx],# & (1/parallax > 2)], \n",
    "         linestyle='none', alpha=0.75, marker='.', markersize=5, color='k')\n",
    "plt.contourf(np.log10(H).T, extent=[-25,0,0,25], cmap='Blues')\n",
    "\n",
    "plt.xlabel(r'$\\mu_l$ [mas/yr]')\n",
    "plt.ylabel(r'$\\mu_b$ [mas/yr]')\n",
    "plt.xlim(-25,0)\n",
    "plt.ylim(0,25)\n",
    "\n",
    "plt.tight_layout()"
   ]
  },
  {
   "cell_type": "code",
   "execution_count": null,
   "metadata": {
    "collapsed": true
   },
   "outputs": [],
   "source": []
  }
 ],
 "metadata": {
  "anaconda-cloud": {},
  "git": {
   "clear_outputs": false
  },
  "kernelspec": {
   "display_name": "Python [conda env:three]",
   "language": "python",
   "name": "conda-env-three-py"
  },
  "language_info": {
   "codemirror_mode": {
    "name": "ipython",
    "version": 3
   },
   "file_extension": ".py",
   "mimetype": "text/x-python",
   "name": "python",
   "nbconvert_exporter": "python",
   "pygments_lexer": "ipython3",
   "version": "3.5.2"
  }
 },
 "nbformat": 4,
 "nbformat_minor": 1
}