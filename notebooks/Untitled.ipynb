{
 "cells": [
  {
   "cell_type": "code",
   "execution_count": null,
   "metadata": {
    "collapsed": true
   },
   "outputs": [],
   "source": [
    "import os\n",
    "\n",
    "from astropy.io import fits\n",
    "import astropy.coordinates as coord\n",
    "import astropy.units as u\n",
    "import h5py\n",
    "\n",
    "from gala.observation import apparent_magnitude\n",
    "import gala.dynamics as gd\n",
    "import gala.coordinates as gc\n",
    "import numpy as np\n",
    "\n",
    "import matplotlib.pyplot as plt\n",
    "from mpl_toolkits.mplot3d import Axes3D\n",
    "plt.style.use('apw-notebook')\n",
    "%matplotlib inline\n",
    "\n",
    "from sklearn.neighbors import KDTree"
   ]
  },
  {
   "cell_type": "code",
   "execution_count": null,
   "metadata": {
    "collapsed": true
   },
   "outputs": [],
   "source": [
    "tgas_path = os.path.abspath(\"../data/tgas.hdf5\")"
   ]
  },
  {
   "cell_type": "code",
   "execution_count": null,
   "metadata": {
    "collapsed": false
   },
   "outputs": [],
   "source": [
    "with h5py.File(tgas_path, 'r') as f:\n",
    "    tgas = f['tgas'][:]\n",
    "    tgas = tgas[(tgas['parallax'] / tgas['parallax_error']) > 16]\n",
    "len(tgas)"
   ]
  },
  {
   "cell_type": "code",
   "execution_count": null,
   "metadata": {
    "collapsed": false
   },
   "outputs": [],
   "source": [
    "c = coord.ICRS(ra=tgas['ra']*u.deg, dec=tgas['dec']*u.deg,\n",
    "               distance=(tgas['parallax']*u.mas).to(u.pc, equivalencies=u.parallax()))\n",
    "# pm = np.vstack((clean_tgas_rave['pmra'],clean_tgas_rave['pmdec'])) * u.mas/u.yr\n",
    "_ix = c.distance < 100*u.pc\n",
    "local_tgas = tgas[_ix]\n",
    "\n",
    "xyz = c.transform_to(coord.Galactocentric).cartesian.xyz[:,_ix]\n",
    "# vxyz = gc.vhel_to_gal(c, pm=pm, rv=rv, vlsr=[0,0,0]*u.km/u.s)\n",
    "\n",
    "# w0 = gd.CartesianPhaseSpacePosition(pos=xyz[:,_ix], vel=vxyz[:,_ix])\n",
    "# print(w0.shape)\n",
    "\n",
    "# xyz = w0.pos.to(u.kpc)\n",
    "# vxyz = w0.vel.to(u.km/u.s) - np.median(w0.vel.to(u.km/u.s), axis=1)[:,None]\n",
    "_ix.sum()"
   ]
  },
  {
   "cell_type": "code",
   "execution_count": null,
   "metadata": {
    "collapsed": true
   },
   "outputs": [],
   "source": [
    "X = xyz.to(u.pc).value.T\n",
    "kd = KDTree(X)"
   ]
  },
  {
   "cell_type": "code",
   "execution_count": null,
   "metadata": {
    "collapsed": false
   },
   "outputs": [],
   "source": [
    "_d,_tree_i = kd.query(X, k=2)\n",
    "d = _d[:,1]\n",
    "tree_i = _tree_i[:,1]"
   ]
  },
  {
   "cell_type": "code",
   "execution_count": null,
   "metadata": {
    "collapsed": false
   },
   "outputs": [],
   "source": [
    "plt.hist(np.log10(d), bins=np.linspace(-3,2.,32));\n",
    "plt.yscale('log')\n",
    "plt.xlabel(r'$\\log_{10}(d/{\\rm pc})$')"
   ]
  },
  {
   "cell_type": "code",
   "execution_count": null,
   "metadata": {
    "collapsed": false
   },
   "outputs": [],
   "source": [
    "pm = np.vstack((local_tgas['pmra'], local_tgas['pmdec'])).T\n",
    "dpm = (pm - pm[tree_i])"
   ]
  },
  {
   "cell_type": "code",
   "execution_count": null,
   "metadata": {
    "collapsed": false
   },
   "outputs": [],
   "source": [
    "fig,axes = plt.subplots(1,2,figsize=(12,5),sharex=True,sharey=True)\n",
    "\n",
    "axes[0].semilogx(d, dpm[:,0]/local_tgas['parallax']*4.74, ls='none', marker='.', alpha=0.2)\n",
    "axes[1].semilogx(d, dpm[:,1]/local_tgas['parallax']*4.74, ls='none', marker='.', alpha=0.2)\n",
    "\n",
    "axes[0].set_xlabel(r'$d$ [pc]')\n",
    "axes[1].set_xlabel(r'$d$ [pc]')\n",
    "\n",
    "axes[0].set_ylabel(r'$\\Delta \\mu_\\alpha/\\varpi$ [km/s]')\n",
    "axes[1].set_ylabel(r'$\\Delta \\mu_\\delta/\\varpi$ [km/s]')\n",
    "\n",
    "axes[0].set_xlim(5E-3,2.5)\n",
    "axes[0].set_ylim(-10,10)\n",
    "\n",
    "axes[0].axhline(0, alpha=0.1)\n",
    "axes[1].axhline(0, alpha=0.1)\n",
    "\n",
    "fig.tight_layout()"
   ]
  },
  {
   "cell_type": "markdown",
   "metadata": {},
   "source": [
    "$$\n",
    "\\begin{align}\n",
    "x &= \\mu_\\alpha \\, \\cos\\delta\\\\\n",
    "y &= \\mu_\\delta\\\\\n",
    "z &= 4.74^2\\frac{(x_2-x_1)^2 + (y_2-y_1)^2}{\\varpi_1^2}\n",
    "\\end{align}\n",
    "$$"
   ]
  },
  {
   "cell_type": "markdown",
   "metadata": {},
   "source": [
    "$$\n",
    "a = x_2 - x_1\\\\\n",
    "b = y_2 - y_1\\\\\n",
    "z = A \\, \\frac{a^2 + b^2}{\\varpi^2}\\\\\n",
    "$$"
   ]
  },
  {
   "cell_type": "markdown",
   "metadata": {},
   "source": [
    "$$\n",
    "\\sigma_z = A [ \\frac{2a}{\\varpi^2}\\sigma_a + \\frac{2b}{\\varpi^2}\\sigma_b - 2\\frac{a^2+b^2}{\\varpi^3}\\sigma_\\varpi]\n",
    "$$"
   ]
  },
  {
   "cell_type": "code",
   "execution_count": null,
   "metadata": {
    "collapsed": false
   },
   "outputs": [],
   "source": [
    "dpm_mag = np.sqrt(np.sum(dpm**2, axis=1))\n",
    "\n",
    "a = dpm[:,0]\n",
    "b = dpm[:,1]\n",
    "da = np.sqrt(local_tgas['pmra']**2 + local_tgas['pmra'][tree_i]**2)\n",
    "db = np.sqrt(local_tgas['pmdec']**2 + local_tgas['pmdec'][tree_i]**2)\n",
    "pom = local_tgas['parallax']\n",
    "dpom = local_tgas['parallax_error']\n",
    "yerr = 4.74*(2*a/pom**2*da + 2*b/pom**2*db - 2*(a**2+b**2)/pom**3*dpom)\n",
    "\n",
    "fig,ax = plt.subplots(1,1,figsize=(8,6))\n",
    "\n",
    "ax.errorbar(d, dpm_mag/local_tgas['parallax']*4.74, yerr=yerr, ls='none', marker='.', alpha=0.2)\n",
    "ax.set_xscale('log')\n",
    "ax.set_yscale('log')\n",
    "\n",
    "ax.set_xlabel(r'$d$ [pc]')\n",
    "ax.set_ylabel(r'$||\\Delta \\mu||/\\varpi$ [km/s]')\n",
    "\n",
    "ax.set_xlim(5E-3,2.5)\n",
    "ax.set_ylim(-0.25,10)\n",
    "ax.axhline(0, alpha=0.1)\n",
    "\n",
    "fig.tight_layout()"
   ]
  },
  {
   "cell_type": "code",
   "execution_count": null,
   "metadata": {
    "collapsed": false
   },
   "outputs": [],
   "source": [
    "from astropy.constants import G\n",
    "np.sqrt(G * 2*u.Msun / (1*u.pc)).to(u.km/u.s)"
   ]
  },
  {
   "cell_type": "code",
   "execution_count": null,
   "metadata": {
    "collapsed": true
   },
   "outputs": [],
   "source": []
  }
 ],
 "metadata": {
  "anaconda-cloud": {},
  "kernelspec": {
   "display_name": "Python [conda env:three]",
   "language": "python",
   "name": "conda-env-three-py"
  },
  "language_info": {
   "codemirror_mode": {
    "name": "ipython",
    "version": 3
   },
   "file_extension": ".py",
   "mimetype": "text/x-python",
   "name": "python",
   "nbconvert_exporter": "python",
   "pygments_lexer": "ipython3",
   "version": "3.5.2"
  }
 },
 "nbformat": 4,
 "nbformat_minor": 1
}