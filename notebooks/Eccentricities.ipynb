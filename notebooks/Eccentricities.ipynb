{
 "cells": [
  {
   "cell_type": "code",
   "execution_count": null,
   "metadata": {
    "collapsed": true
   },
   "outputs": [],
   "source": [
    "import os\n",
    "\n",
    "# Third-party\n",
    "from astropy.constants import G\n",
    "import astropy.coordinates as coord\n",
    "from astropy.io import ascii, fits\n",
    "import astropy.table as atbl\n",
    "import astropy.units as u\n",
    "import h5py\n",
    "import matplotlib as mpl\n",
    "import matplotlib.pyplot as plt\n",
    "import numpy as np\n",
    "plt.style.use('notebook.mplstyle')\n",
    "%matplotlib inline\n",
    "import corner\n",
    "\n",
    "import gala.dynamics as gd\n",
    "import gala.coordinates as gc\n",
    "import gala.potential as gp\n",
    "from gala.units import galactic"
   ]
  },
  {
   "cell_type": "code",
   "execution_count": null,
   "metadata": {
    "collapsed": true
   },
   "outputs": [],
   "source": [
    "# Milky Way potential\n",
    "mw_potential = gp.CCompositePotential()\n",
    "\n",
    "mw_potential['disk'] = gp.MiyamotoNagaiPotential(m=6E10, a=3.5, b=0.14, units=galactic)\n",
    "mw_potential['bulge'] = gp.HernquistPotential(m=1E10, c=1.1, units=galactic)\n",
    "\n",
    "# for DM halo potential\n",
    "M_h = 8E11 * u.Msun\n",
    "rs_h = 20. * u.kpc\n",
    "v_c = np.sqrt(((np.log(2.) - 0.5) * (G * M_h / rs_h)).decompose(galactic).value)\n",
    "mw_potential['halo'] = gp.SphericalNFWPotential(v_c=v_c, r_s=rs_h, units=galactic)"
   ]
  },
  {
   "cell_type": "code",
   "execution_count": null,
   "metadata": {
    "collapsed": false
   },
   "outputs": [],
   "source": [
    "tgas_rave = fits.getdata('../data/tgas-rave.fits', 1)\n",
    "\n",
    "SN_cut = 5\n",
    "\n",
    "clean_idx = ((np.abs(tgas_rave['parallax'] / tgas_rave['parallax_error']) > SN_cut) & \n",
    "             np.isfinite(tgas_rave['parallax'] / tgas_rave['parallax_error']) &\n",
    "             (tgas_rave['eHRV'] < 15.) &\n",
    "             np.isfinite(tgas_rave['HRV'] / tgas_rave['eHRV']))\n",
    "\n",
    "clean_tgas_rave = tgas_rave[clean_idx]\n",
    "len(clean_tgas_rave)"
   ]
  },
  {
   "cell_type": "code",
   "execution_count": null,
   "metadata": {
    "collapsed": false
   },
   "outputs": [],
   "source": [
    "plt.hist(1/clean_tgas_rave['parallax'], bins=np.linspace(0,1,32));"
   ]
  },
  {
   "cell_type": "code",
   "execution_count": null,
   "metadata": {
    "collapsed": false
   },
   "outputs": [],
   "source": [
    "rv = clean_tgas_rave['HRV'] * u.km/u.s\n",
    "c = coord.ICRS(ra=clean_tgas_rave['ra']*u.deg, dec=clean_tgas_rave['dec']*u.deg,\n",
    "               distance=(clean_tgas_rave['parallax']*u.mas).to(u.pc, equivalencies=u.parallax()))\n",
    "pm = np.vstack((clean_tgas_rave['pmra'],clean_tgas_rave['pmdec'])) * u.mas/u.yr\n",
    "\n",
    "xyz = c.transform_to(coord.Galactocentric).cartesian.xyz\n",
    "vxyz = gc.vhel_to_gal(c, pm=pm, rv=rv)\n",
    "\n",
    "# _ix = np.abs(xyz[2]) < 100*u.pc\n",
    "w0 = gd.CartesianPhaseSpacePosition(pos=xyz, vel=vxyz)"
   ]
  },
  {
   "cell_type": "code",
   "execution_count": null,
   "metadata": {
    "collapsed": false
   },
   "outputs": [],
   "source": [
    "w0.shape"
   ]
  },
  {
   "cell_type": "code",
   "execution_count": null,
   "metadata": {
    "collapsed": false
   },
   "outputs": [],
   "source": [
    "all_ecc = np.zeros(w0.shape[0])\n",
    "z_max = np.zeros(w0.shape[0])\n",
    "for i in range(w0.shape[0]):\n",
    "    orbit = mw_potential.integrate_orbit(w0[i], dt=-1., n_steps=1000)\n",
    "    all_ecc[i] = orbit.eccentricity()\n",
    "    z_max[i] = np.abs(orbit.pos[2]).max().to(u.kpc).value"
   ]
  },
  {
   "cell_type": "code",
   "execution_count": null,
   "metadata": {
    "collapsed": false
   },
   "outputs": [],
   "source": [
    "plt.figure(figsize=(8,6))\n",
    "plt.scatter(all_ecc, clean_tgas_rave['Fe_H'], c=z_max,\n",
    "            marker='.', alpha=0.5, cmap='plasma_r', vmin=0, vmax=1)\n",
    "plt.xlim(-0.025, 1)\n",
    "plt.ylim(-1.2, 0.5)\n",
    "plt.xlabel('$e$')\n",
    "plt.ylabel('[Fe/H]')\n",
    "cb = plt.colorbar()\n",
    "cb.set_label(r'$z_{\\rm max}$')"
   ]
  },
  {
   "cell_type": "code",
   "execution_count": null,
   "metadata": {
    "collapsed": false
   },
   "outputs": [],
   "source": [
    "plt.figure(figsize=(8,6))\n",
    "plt.scatter(all_ecc, z_max, c=clean_tgas_rave['Fe_H'],\n",
    "            marker='.', alpha=0.5, cmap='plasma', vmin=-1., vmax=0)\n",
    "plt.xlim(-0.025, 1)\n",
    "plt.ylim(0,2)\n",
    "plt.xlabel(r'$e$')\n",
    "plt.ylabel(r'$z_{\\rm max}$')"
   ]
  },
  {
   "cell_type": "code",
   "execution_count": null,
   "metadata": {
    "collapsed": false
   },
   "outputs": [],
   "source": [
    "plt.hist(z_max, bins=np.linspace(0,10.,32));\n",
    "plt.yscale('log')\n",
    "plt.xlabel(r'$z_{\\rm max}$')"
   ]
  },
  {
   "cell_type": "code",
   "execution_count": null,
   "metadata": {
    "collapsed": false
   },
   "outputs": [],
   "source": [
    "for_keith = clean_tgas_rave[((z_max > 3.) & np.isfinite(z_max) & (clean_tgas_rave['Fe_H'] > -0.5))]\n",
    "len(for_keith)"
   ]
  },
  {
   "cell_type": "code",
   "execution_count": null,
   "metadata": {
    "collapsed": false
   },
   "outputs": [],
   "source": [
    "fits.BinTableHDU(for_keith).writeto('../data/high-zmax-for-keith.fits')"
   ]
  },
  {
   "cell_type": "code",
   "execution_count": null,
   "metadata": {
    "collapsed": false
   },
   "outputs": [],
   "source": [
    "for_keith.dtype.names"
   ]
  },
  {
   "cell_type": "code",
   "execution_count": null,
   "metadata": {
    "collapsed": true
   },
   "outputs": [],
   "source": []
  }
 ],
 "metadata": {
  "anaconda-cloud": {},
  "kernelspec": {
   "display_name": "Python [conda env:three]",
   "language": "python",
   "name": "conda-env-three-py"
  },
  "language_info": {
   "codemirror_mode": {
    "name": "ipython",
    "version": 3
   },
   "file_extension": ".py",
   "mimetype": "text/x-python",
   "name": "python",
   "nbconvert_exporter": "python",
   "pygments_lexer": "ipython3",
   "version": "3.5.2"
  }
 },
 "nbformat": 4,
 "nbformat_minor": 1
}