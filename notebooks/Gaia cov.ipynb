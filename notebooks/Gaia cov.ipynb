{
 "cells": [
  {
   "cell_type": "code",
   "execution_count": null,
   "metadata": {
    "collapsed": true
   },
   "outputs": [],
   "source": [
    "# Third-party\n",
    "import numpy as np"
   ]
  },
  {
   "cell_type": "markdown",
   "metadata": {},
   "source": [
    "Make some fake Gaia uncertainties with the same column names as the simulated data:"
   ]
  },
  {
   "cell_type": "code",
   "execution_count": null,
   "metadata": {
    "collapsed": false
   },
   "outputs": [],
   "source": [
    "A = np.random.uniform(size=(32,5,5))\n",
    "cov = 0.5 * np.einsum('nij,nkj->nik', A, A)"
   ]
  },
  {
   "cell_type": "code",
   "execution_count": null,
   "metadata": {
    "collapsed": false
   },
   "outputs": [],
   "source": [
    "data = dict()\n",
    "for i,name1 in enumerate(['ra', 'dec', 'parallax', 'pmra', 'pmdec']):\n",
    "    data['{}_error'.format(name1)] = np.sqrt(cov[:,i,i])\n",
    "    for j,name2 in enumerate(['ra', 'dec', 'parallax', 'pmra', 'pmdec']):\n",
    "        if j >= i: continue\n",
    "        data['{}_{}_corr'.format(name1,name2)] = cov[:,i,j] / (np.sqrt(cov[:,i,i]*cov[:,j,j]))"
   ]
  },
  {
   "cell_type": "code",
   "execution_count": null,
   "metadata": {
    "collapsed": true
   },
   "outputs": [],
   "source": [
    "def construct_cov(gaia_data):\n",
    "    \"\"\"\n",
    "    If the real data look like the simulated data, Gaia will provide \n",
    "    correlation coefficients and standard deviations for \n",
    "    (ra,dec,parallax,pm_ra,pm_dec), but we probably want to turn that\n",
    "    into a covariance matrix.\n",
    "    \"\"\"\n",
    "    names = ['ra', 'dec', 'parallax', 'pmra', 'pmdec']\n",
    "    \n",
    "    n = len(gaia_data['ra_error'])\n",
    "    C = np.zeros((n,len(names),len(names)))\n",
    "    \n",
    "    # pre-load the diagonal\n",
    "    for i,name in enumerate(names):\n",
    "        full_name = \"{}_error\".format(name)\n",
    "        C[:,i,i] = gaia_data[full_name]**2\n",
    "    \n",
    "    for i,name1 in enumerate(names):\n",
    "        for j,name2 in enumerate(names):\n",
    "            if j >= i: continue    \n",
    "            full_name = \"{}_{}_corr\".format(name1, name2)\n",
    "            C[...,i,j] = gaia_data[full_name]*np.sqrt(C[...,i,i]*C[...,j,j])\n",
    "            C[...,j,i] = gaia_data[full_name]*np.sqrt(C[...,i,i]*C[...,j,j])\n",
    "    \n",
    "    return C    "
   ]
  },
  {
   "cell_type": "code",
   "execution_count": null,
   "metadata": {
    "collapsed": false
   },
   "outputs": [],
   "source": [
    "out_cov = construct_cov(data)"
   ]
  },
  {
   "cell_type": "code",
   "execution_count": null,
   "metadata": {
    "collapsed": true
   },
   "outputs": [],
   "source": [
    "assert np.allclose(out_cov, cov)"
   ]
  },
  {
   "cell_type": "code",
   "execution_count": null,
   "metadata": {
    "collapsed": true
   },
   "outputs": [],
   "source": []
  }
 ],
 "metadata": {
  "anaconda-cloud": {},
  "kernelspec": {
   "display_name": "Python [conda root]",
   "language": "python",
   "name": "conda-root-py"
  },
  "language_info": {
   "codemirror_mode": {
    "name": "ipython",
    "version": 3
   },
   "file_extension": ".py",
   "mimetype": "text/x-python",
   "name": "python",
   "nbconvert_exporter": "python",
   "pygments_lexer": "ipython3",
   "version": "3.5.2"
  }
 },
 "nbformat": 4,
 "nbformat_minor": 1
}