{
 "cells": [
  {
   "cell_type": "code",
   "execution_count": 1,
   "metadata": {
    "collapsed": false
   },
   "outputs": [],
   "source": [
    "import os\n",
    "\n",
    "# Third-party\n",
    "import astropy.coordinates as coord\n",
    "from astropy.io import ascii\n",
    "import astropy.table as atbl\n",
    "import astropy.units as u\n",
    "import h5py\n",
    "import matplotlib as mpl\n",
    "import matplotlib.pyplot as plt\n",
    "import numpy as np\n",
    "plt.style.use('notebook.mplstyle')\n",
    "%matplotlib inline"
   ]
  },
  {
   "cell_type": "code",
   "execution_count": 2,
   "metadata": {
    "collapsed": true
   },
   "outputs": [],
   "source": [
    "tycho2_path = os.path.abspath(\"../data/tycho2.hdf5\")\n",
    "exoplanets_path = os.path.abspath(\"../data/planets.csv\")"
   ]
  },
  {
   "cell_type": "code",
   "execution_count": 3,
   "metadata": {
    "collapsed": false
   },
   "outputs": [],
   "source": [
    "if not os.path.exists(tycho2_path):\n",
    "    print(\"Please download the tycho2 HDF5 file (it's ~500 MB), e.g.:\")\n",
    "    _data_path = os.path.abspath(os.path.join(os.getcwd(), \"..\", \"data\"))\n",
    "    print(\"    wget -P {} {}\".format(_data_path, \"http://s3.adrian.pw/tycho2.hdf5\"))\n",
    "    \n",
    "if not os.path.exists(exoplanets_path):\n",
    "    print(\"Please download the exoplanets CSV file (it's ~1 MB), e.g.:\")\n",
    "    _data_path = os.path.abspath(os.path.join(os.getcwd(), \"..\", \"data\"))\n",
    "    print(\"    wget -P {} {}\".format(_data_path, \"http://s3.adrian.pw/planets.hdf5\"))"
   ]
  },
  {
   "cell_type": "code",
   "execution_count": 4,
   "metadata": {
    "collapsed": false
   },
   "outputs": [
    {
     "data": {
      "text/plain": [
       "3301"
      ]
     },
     "execution_count": 4,
     "metadata": {},
     "output_type": "execute_result"
    }
   ],
   "source": [
    "exoplanets = ascii.read(exoplanets_path, header_start=70, data_start=71)\n",
    "len(exoplanets)"
   ]
  },
  {
   "cell_type": "code",
   "execution_count": 5,
   "metadata": {
    "collapsed": false
   },
   "outputs": [
    {
     "name": "stdout",
     "output_type": "stream",
     "text": [
      "['rowid', 'pl_hostname', 'pl_letter', 'pl_discmethod', 'pl_pnum', 'pl_orbper', 'pl_orbpererr1', 'pl_orbpererr2', 'pl_orbperlim', 'pl_orbsmax', 'pl_orbsmaxerr1', 'pl_orbsmaxerr2', 'pl_orbsmaxlim', 'pl_orbeccen', 'pl_orbeccenerr1', 'pl_orbeccenerr2', 'pl_orbeccenlim', 'pl_orbincl', 'pl_orbinclerr1', 'pl_orbinclerr2', 'pl_orbincllim', 'pl_bmassj', 'pl_bmassjerr1', 'pl_bmassjerr2', 'pl_bmassjlim', 'pl_bmassprov', 'pl_radj', 'pl_radjerr1', 'pl_radjerr2', 'pl_radjlim', 'pl_dens', 'pl_denserr1', 'pl_denserr2', 'pl_denslim', 'pl_ttvflag', 'pl_kepflag', 'pl_k2flag', 'pl_nnotes', 'ra_str', 'ra', 'dec_str', 'dec', 'st_dist', 'st_disterr1', 'st_disterr2', 'st_distlim', 'st_optmag', 'st_optmagerr', 'st_optmaglim', 'st_optmagblend', 'st_optband', 'st_teff', 'st_tefferr1', 'st_tefferr2', 'st_tefflim', 'st_teffblend', 'st_mass', 'st_masserr1', 'st_masserr2', 'st_masslim', 'st_massblend', 'st_rad', 'st_raderr1', 'st_raderr2', 'st_radlim', 'st_radblend', 'rowupdate']\n"
     ]
    }
   ],
   "source": [
    "print(exoplanets.colnames)"
   ]
  },
  {
   "cell_type": "markdown",
   "metadata": {},
   "source": [
    "Get coordinate objects for the two catalogs"
   ]
  },
  {
   "cell_type": "code",
   "execution_count": 6,
   "metadata": {
    "collapsed": false
   },
   "outputs": [
    {
     "name": "stderr",
     "output_type": "stream",
     "text": [
      "WARNING: path= was not specified but multiple tables are present, reading in first available table (path=tycho2) [astropy.io.misc.hdf5]\n"
     ]
    }
   ],
   "source": [
    "tycho2 = atbl.Table.read(tycho2_path)\n",
    "\n",
    "ra = tycho2['RAmdeg'][tycho2['pflag'].astype(str) == ' ']\n",
    "dec = tycho2['DEmdeg'][tycho2['pflag'].astype(str) == ' ']\n",
    "tycho2_c = coord.SkyCoord(ra=ra*u.degree, dec=dec*u.degree)"
   ]
  },
  {
   "cell_type": "code",
   "execution_count": 7,
   "metadata": {
    "collapsed": false
   },
   "outputs": [
    {
     "data": {
      "text/plain": [
       "(0.36214200000000002, 359.97430400000002)"
      ]
     },
     "execution_count": 7,
     "metadata": {},
     "output_type": "execute_result"
    }
   ],
   "source": [
    "exoplanets['ra'].min(), exoplanets['ra'].max()"
   ]
  },
  {
   "cell_type": "code",
   "execution_count": 8,
   "metadata": {
    "collapsed": false
   },
   "outputs": [],
   "source": [
    "exoplanets_c = coord.SkyCoord(ra=exoplanets['ra']*u.degree, dec=exoplanets['dec']*u.degree)"
   ]
  },
  {
   "cell_type": "code",
   "execution_count": 9,
   "metadata": {
    "collapsed": true
   },
   "outputs": [],
   "source": [
    "idx,sep,_ = exoplanets_c.match_to_catalog_sky(tycho2_c)"
   ]
  },
  {
   "cell_type": "code",
   "execution_count": 10,
   "metadata": {
    "collapsed": false
   },
   "outputs": [
    {
     "data": {
      "text/plain": [
       "755"
      ]
     },
     "execution_count": 10,
     "metadata": {},
     "output_type": "execute_result"
    }
   ],
   "source": [
    "cut = sep < 2*u.arcsecond\n",
    "match_exop = exoplanets[cut]\n",
    "match_idx = idx[cut]\n",
    "len(match_idx)"
   ]
  },
  {
   "cell_type": "code",
   "execution_count": 11,
   "metadata": {
    "collapsed": false
   },
   "outputs": [
    {
     "data": {
      "text/plain": [
       "<matplotlib.text.Text at 0x10ecfd240>"
      ]
     },
     "execution_count": 11,
     "metadata": {},
     "output_type": "execute_result"
    },
    {
     "data": {
      "image/png": "[encoded data removed]",
      "text/plain": [
       "<matplotlib.figure.Figure at 0x10f089da0>"
      ]
     },
     "metadata": {
      "image/png": {
       "height": 402,
       "width": 500
      }
     },
     "output_type": "display_data"
    }
   ],
   "source": [
    "plt.figure(figsize=(8,6))\n",
    "plt.hist(match_exop['st_optmag'], bins=15)\n",
    "plt.xlabel('Optical magnitude?')"
   ]
  },
  {
   "cell_type": "code",
   "execution_count": null,
   "metadata": {
    "collapsed": true
   },
   "outputs": [],
   "source": []
  }
 ],
 "metadata": {
  "anaconda-cloud": {},
  "git": {
   "suppress_outputs": false
  },
  "kernelspec": {
   "display_name": "Python [conda env:three]",
   "language": "python",
   "name": "conda-env-three-py"
  },
  "language_info": {
   "codemirror_mode": {
    "name": "ipython",
    "version": 3
   },
   "file_extension": ".py",
   "mimetype": "text/x-python",
   "name": "python",
   "nbconvert_exporter": "python",
   "pygments_lexer": "ipython3",
   "version": "3.5.2"
  }
 },
 "nbformat": 4,
 "nbformat_minor": 0
}
