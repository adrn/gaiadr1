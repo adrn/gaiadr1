{
 "cells": [
  {
   "cell_type": "code",
   "execution_count": null,
   "metadata": {
    "collapsed": true
   },
   "outputs": [],
   "source": [
    "import os\n",
    "\n",
    "# Third-party\n",
    "from astropy.constants import G\n",
    "import astropy.coordinates as coord\n",
    "from astropy.io import ascii, fits\n",
    "import astropy.table as atbl\n",
    "import astropy.units as u\n",
    "import h5py\n",
    "import matplotlib as mpl\n",
    "import matplotlib.pyplot as plt\n",
    "import numpy as np\n",
    "plt.style.use('notebook.mplstyle')\n",
    "%matplotlib inline\n",
    "import corner\n",
    "\n",
    "import gala.dynamics as gd\n",
    "import gala.coordinates as gc\n",
    "import gala.potential as gp\n",
    "from gala.units import galactic"
   ]
  },
  {
   "cell_type": "code",
   "execution_count": null,
   "metadata": {
    "collapsed": false
   },
   "outputs": [],
   "source": [
    "tgas_rave = fits.getdata('../data/tgas-rave.fits', 1)\n",
    "\n",
    "SN_cut = 10\n",
    "\n",
    "clean_idx = ((np.abs(tgas_rave['parallax'] / tgas_rave['parallax_error']) > SN_cut) & \n",
    "             np.isfinite(tgas_rave['parallax'] / tgas_rave['parallax_error']) &\n",
    "             (tgas_rave['eHRV'] < 10.) &\n",
    "             np.isfinite(tgas_rave['HRV'] / tgas_rave['eHRV']))\n",
    "\n",
    "clean_tgas_rave = tgas_rave[clean_idx]\n",
    "len(clean_tgas_rave)"
   ]
  },
  {
   "cell_type": "code",
   "execution_count": null,
   "metadata": {
    "collapsed": true
   },
   "outputs": [],
   "source": [
    "pm_mag = np.sqrt(clean_tgas_rave['pmra']**2 + clean_tgas_rave['pmdec']**2)\n",
    "rv = clean_tgas_rave['HRV']\n",
    "vtan = pm_mag/clean_tgas_rave['parallax']*4.74"
   ]
  },
  {
   "cell_type": "code",
   "execution_count": null,
   "metadata": {
    "collapsed": false
   },
   "outputs": [],
   "source": [
    "fig,ax = plt.subplots(1,1,figsize=(8,6))\n",
    "\n",
    "ax.semilogx(pm_mag, rv, ls='none', marker='.', alpha=1.)\n",
    "\n",
    "ax.set_xlim(5E-2, 1.)\n",
    "ax.set_ylim(-250,250)\n",
    "\n",
    "fig.tight_layout()"
   ]
  },
  {
   "cell_type": "code",
   "execution_count": null,
   "metadata": {
    "collapsed": false
   },
   "outputs": [],
   "source": [
    "fig,ax = plt.subplots(1,1,figsize=(8,6))\n",
    "\n",
    "ax.semilogx(vtan, rv, ls='none', marker='.', alpha=0.5)\n",
    "\n",
    "ax.set_xlim(1E-1, 15.)\n",
    "ax.set_ylim(-300,300)\n",
    "\n",
    "fig.tight_layout()\n",
    "\n",
    "ax.set_xlabel(r'$v_{\\rm tan}$ [${\\rm km}\\,{\\rm s}^{-1}$]')\n",
    "ax.set_ylabel(r'RV [${\\rm km}\\,{\\rm s}^{-1}$]')"
   ]
  },
  {
   "cell_type": "markdown",
   "metadata": {},
   "source": [
    "## ALIENS"
   ]
  },
  {
   "cell_type": "code",
   "execution_count": null,
   "metadata": {
    "collapsed": true
   },
   "outputs": [],
   "source": []
  }
 ],
 "metadata": {
  "anaconda-cloud": {},
  "kernelspec": {
   "display_name": "Python [conda env:three]",
   "language": "python",
   "name": "conda-env-three-py"
  },
  "language_info": {
   "codemirror_mode": {
    "name": "ipython",
    "version": 3
   },
   "file_extension": ".py",
   "mimetype": "text/x-python",
   "name": "python",
   "nbconvert_exporter": "python",
   "pygments_lexer": "ipython3",
   "version": "3.5.2"
  }
 },
 "nbformat": 4,
 "nbformat_minor": 1
}