{
 "cells": [
  {
   "cell_type": "code",
   "execution_count": null,
   "metadata": {
    "collapsed": true
   },
   "outputs": [],
   "source": [
    "import os\n",
    "\n",
    "# Third-party\n",
    "from astropy.constants import G\n",
    "import astropy.coordinates as coord\n",
    "from astropy.io import ascii, fits\n",
    "import astropy.table as atbl\n",
    "import astropy.units as u\n",
    "import h5py\n",
    "import matplotlib as mpl\n",
    "import matplotlib.pyplot as plt\n",
    "import numpy as np\n",
    "plt.style.use('notebook.mplstyle')\n",
    "%matplotlib inline\n",
    "import corner\n",
    "\n",
    "import gala.dynamics as gd\n",
    "import gala.coordinates as gc\n",
    "import gala.potential as gp\n",
    "from gala.units import galactic"
   ]
  },
  {
   "cell_type": "code",
   "execution_count": null,
   "metadata": {
    "collapsed": false
   },
   "outputs": [],
   "source": [
    "tgas_rave = fits.getdata('../data/tgas-rave.fits', 1)\n",
    "\n",
    "SN_cut = 5\n",
    "\n",
    "clean_idx = ((np.abs(tgas_rave['parallax'] / tgas_rave['parallax_error']) > SN_cut) & \n",
    "             np.isfinite(tgas_rave['parallax'] / tgas_rave['parallax_error']) &\n",
    "             (tgas_rave['eHRV'] < 10.) &\n",
    "             np.isfinite(tgas_rave['HRV'] / tgas_rave['eHRV']))\n",
    "\n",
    "clean_tgas_rave = tgas_rave[clean_idx]\n",
    "len(clean_tgas_rave)"
   ]
  },
  {
   "cell_type": "code",
   "execution_count": null,
   "metadata": {
    "collapsed": false
   },
   "outputs": [],
   "source": [
    "rv = clean_tgas_rave['HRV'] * u.km/u.s\n",
    "c = coord.ICRS(ra=clean_tgas_rave['ra']*u.deg, dec=clean_tgas_rave['dec']*u.deg,\n",
    "               distance=(clean_tgas_rave['parallax']*u.mas).to(u.pc, equivalencies=u.parallax()))\n",
    "pm = np.vstack((clean_tgas_rave['pmra'],clean_tgas_rave['pmdec'])) * u.mas/u.yr\n",
    "\n",
    "xyz = c.transform_to(coord.Galactocentric).cartesian.xyz\n",
    "vxyz = gc.vhel_to_gal(c, pm=pm, rv=rv, vlsr=[0,0,0]*u.km/u.s)\n",
    "\n",
    "_ix = np.abs(xyz[2]) < 100*u.pc\n",
    "w0 = gd.CartesianPhaseSpacePosition(pos=xyz[:,_ix], vel=vxyz[:,_ix])\n",
    "print(w0.shape)\n",
    "\n",
    "xyz = w0.pos.to(u.kpc)\n",
    "vxyz = w0.vel.to(u.km/u.s) - np.median(w0.vel.to(u.km/u.s), axis=1)[:,None]"
   ]
  },
  {
   "cell_type": "code",
   "execution_count": null,
   "metadata": {
    "collapsed": false
   },
   "outputs": [],
   "source": [
    "vcyl = gc.cartesian_to_cylindrical(xyz, vxyz)"
   ]
  },
  {
   "cell_type": "code",
   "execution_count": null,
   "metadata": {
    "collapsed": false
   },
   "outputs": [],
   "source": [
    "fig,axes = plt.subplots(1,3,figsize=(15,5))\n",
    "\n",
    "axes[0].hist(vcyl[0], bins=np.linspace(-150,150,64))\n",
    "axes[1].hist(vcyl[1], bins=np.linspace(-150,150,64));\n",
    "axes[2].hist(vcyl[2], bins=np.linspace(-150,150,64));\n",
    "\n",
    "axes[0].set_xlabel('$v_R$ [km s$^{-1}$]')\n",
    "axes[1].set_xlabel(r'$v_\\phi$ [km s$^{-1}$]')\n",
    "axes[2].set_xlabel(r'$v_z$ [km s$^{-1}$]')"
   ]
  },
  {
   "cell_type": "code",
   "execution_count": null,
   "metadata": {
    "collapsed": false
   },
   "outputs": [],
   "source": [
    "fig,axes = plt.subplots(1,3,figsize=(15,5), sharex=True, sharey=True)\n",
    "\n",
    "style = dict(marker='.', alpha=0.5, cmap='RdBu', s=50, vmin=-50, vmax=50)\n",
    "axes[0].scatter(xyz[0], xyz[1], c=vcyl[0], #-np.median(vcyl[0]),\n",
    "                **style)\n",
    "\n",
    "axes[1].scatter(xyz[0], xyz[1], c=vcyl[1], #-np.median(vxyz[1]), #vcyl[1]-np.median(vcyl[1]),\n",
    "                **style)\n",
    "\n",
    "c = axes[2].scatter(xyz[0], xyz[1], c=vcyl[2], #-np.median(vcyl[2]),\n",
    "                    **style)\n",
    "\n",
    "axes[0].set_xlim(-8.3-0.25, -8.3+0.25)\n",
    "axes[0].set_ylim(-0.25,0.25)\n",
    "\n",
    "axes[0].set_xlabel(\"$x$ [kpc]\")\n",
    "axes[0].set_ylabel(\"$y$ [kpc]\")\n",
    "axes[1].set_xlabel(\"$x$ [kpc]\")\n",
    "axes[2].set_xlabel(\"$x$ [kpc]\")\n",
    "\n",
    "axes[0].set_title(\"color: $v_R$\")\n",
    "axes[1].set_title(r\"color: $v_\\phi$\")\n",
    "axes[2].set_title(\"color: $v_z$\")\n",
    "\n",
    "# fig.colorbar(c)"
   ]
  },
  {
   "cell_type": "code",
   "execution_count": null,
   "metadata": {
    "collapsed": true
   },
   "outputs": [],
   "source": []
  },
  {
   "cell_type": "code",
   "execution_count": null,
   "metadata": {
    "collapsed": true
   },
   "outputs": [],
   "source": []
  }
 ],
 "metadata": {
  "anaconda-cloud": {},
  "kernelspec": {
   "display_name": "Python [conda env:three]",
   "language": "python",
   "name": "conda-env-three-py"
  },
  "language_info": {
   "codemirror_mode": {
    "name": "ipython",
    "version": 3
   },
   "file_extension": ".py",
   "mimetype": "text/x-python",
   "name": "python",
   "nbconvert_exporter": "python",
   "pygments_lexer": "ipython3",
   "version": "3.5.2"
  }
 },
 "nbformat": 4,
 "nbformat_minor": 1
}