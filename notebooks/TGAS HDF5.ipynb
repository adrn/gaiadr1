{
 "cells": [
  {
   "cell_type": "code",
   "execution_count": null,
   "metadata": {
    "collapsed": true
   },
   "outputs": [],
   "source": [
    "import os\n",
    "import numpy as np\n",
    "from astropy.io import fits\n",
    "import astropy.table as at"
   ]
  },
  {
   "cell_type": "code",
   "execution_count": null,
   "metadata": {
    "collapsed": true
   },
   "outputs": [],
   "source": [
    "TGAS_PATH = os.path.abspath(\"../data/tgas\")"
   ]
  },
  {
   "cell_type": "code",
   "execution_count": null,
   "metadata": {
    "collapsed": false
   },
   "outputs": [],
   "source": [
    "col = tbl['tycho2_id']\n",
    "tbl['tycho2_id'] = np.array([n.encode(\"ascii\", \"ignore\") for n in tbl['tycho2_id']], dtype='S')\n",
    "tbl.rename_column('tycho2_id', '_tycho2_id')"
   ]
  },
  {
   "cell_type": "code",
   "execution_count": null,
   "metadata": {
    "collapsed": false
   },
   "outputs": [],
   "source": [
    "tbl.dtype"
   ]
  },
  {
   "cell_type": "code",
   "execution_count": null,
   "metadata": {
    "collapsed": false
   },
   "outputs": [],
   "source": [
    "all_tbl = None\n",
    "for filename in os.listdir(TGAS_PATH):\n",
    "    if os.path.splitext(filename)[1] == '.fits':\n",
    "        print(filename)\n",
    "        print(fits.getheader(os.path.join(TGAS_PATH, filename), 1))\n",
    "        break"
   ]
  },
  {
   "cell_type": "code",
   "execution_count": null,
   "metadata": {
    "collapsed": false
   },
   "outputs": [],
   "source": [
    "all_tbl = None\n",
    "for filename in os.listdir(TGAS_PATH):\n",
    "    if os.path.splitext(filename)[1] == '.fits':\n",
    "        print(filename)\n",
    "        tbl = at.Table(fits.getdata(os.path.join(TGAS_PATH, filename), 1))\n",
    "        \n",
    "        # Unicode shite\n",
    "        tbl.rename_column('tycho2_id', '_tycho2_id')\n",
    "        tbl['tycho2_id'] = [n.encode(\"ascii\", \"ignore\") for n in tbl['_tycho2_id']]\n",
    "        tbl.rename_column('phot_variable_flag', '_phot_variable_flag')\n",
    "        tbl['phot_variable_flag'] = [n.encode(\"ascii\", \"ignore\") for n in tbl['_phot_variable_flag']]\n",
    "        tbl.remove_columns(['_tycho2_id', '_phot_variable_flag'])\n",
    "        \n",
    "        if all_tbl is None:\n",
    "            all_tbl = tbl\n",
    "        else:\n",
    "            all_tbl = at.vstack((all_tbl, tbl))\n",
    "            \n",
    "all_tbl.write('../data/tgas.hdf5', path='/tgas')"
   ]
  },
  {
   "cell_type": "code",
   "execution_count": null,
   "metadata": {
    "collapsed": true
   },
   "outputs": [],
   "source": []
  }
 ],
 "metadata": {
  "anaconda-cloud": {},
  "kernelspec": {
   "display_name": "Python [conda env:three]",
   "language": "python",
   "name": "conda-env-three-py"
  },
  "language_info": {
   "codemirror_mode": {
    "name": "ipython",
    "version": 3
   },
   "file_extension": ".py",
   "mimetype": "text/x-python",
   "name": "python",
   "nbconvert_exporter": "python",
   "pygments_lexer": "ipython3",
   "version": "3.5.2"
  }
 },
 "nbformat": 4,
 "nbformat_minor": 1
}