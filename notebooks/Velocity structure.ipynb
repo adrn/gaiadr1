{
 "cells": [
  {
   "cell_type": "code",
   "execution_count": null,
   "metadata": {
    "collapsed": true
   },
   "outputs": [],
   "source": [
    "import os\n",
    "\n",
    "# Third-party\n",
    "from astropy.constants import G\n",
    "import astropy.coordinates as coord\n",
    "from astropy.io import ascii, fits\n",
    "import astropy.table as atbl\n",
    "import astropy.units as u\n",
    "import h5py\n",
    "import matplotlib as mpl\n",
    "import matplotlib.pyplot as plt\n",
    "import numpy as np\n",
    "plt.style.use('notebook.mplstyle')\n",
    "%matplotlib inline\n",
    "import corner\n",
    "\n",
    "import gala.dynamics as gd\n",
    "import gala.coordinates as gc\n",
    "import gala.potential as gp\n",
    "from gala.units import galactic"
   ]
  },
  {
   "cell_type": "code",
   "execution_count": null,
   "metadata": {
    "collapsed": true
   },
   "outputs": [],
   "source": [
    "tgas_path = os.path.abspath(\"../data/tgas.hdf5\")"
   ]
  },
  {
   "cell_type": "code",
   "execution_count": null,
   "metadata": {
    "collapsed": false
   },
   "outputs": [],
   "source": [
    "with h5py.File(tgas_path, 'r') as f:\n",
    "    tgas = f['tgas'][:]\n",
    "    \n",
    "all_tgas_c = coord.SkyCoord(ra=tgas['ra']*u.degree, \n",
    "                            dec=tgas['dec']*u.degree,\n",
    "                            distance=(tgas['parallax']*u.mas).to(u.kpc,u.parallax()))"
   ]
  },
  {
   "cell_type": "code",
   "execution_count": null,
   "metadata": {
    "collapsed": false
   },
   "outputs": [],
   "source": [
    "all_xyz = all_tgas_c.transform_to(coord.Galactocentric).cartesian.xyz"
   ]
  },
  {
   "cell_type": "code",
   "execution_count": null,
   "metadata": {
    "collapsed": false,
    "scrolled": false
   },
   "outputs": [],
   "source": [
    "plt.figure(figsize=(10,10))\n",
    "plt.plot(all_xyz[0][np.abs(all_xyz[1]) < 0.1*u.kpc],\n",
    "         all_xyz[2][np.abs(all_xyz[1]) < 0.1*u.kpc], \n",
    "         ls='none', marker=',', alpha=0.4)\n",
    "plt.xlim(-8.3-2, -8.3+2)\n",
    "plt.ylim(-1,1)\n",
    "plt.xlabel('$x$ [kpc]')\n",
    "plt.ylabel('$z$ [kpc]')"
   ]
  },
  {
   "cell_type": "code",
   "execution_count": null,
   "metadata": {
    "collapsed": true
   },
   "outputs": [],
   "source": [
    "Gmag = tgas['phot_g_mean_mag']\n",
    "\n",
    "parallax = tgas['parallax'] * u.mas\n",
    "parallax_err = tgas['parallax_error']*u.mas\n",
    "\n",
    "pm = np.vstack((tgas['pmra'], tgas['pmdec'])) * u.mas/u.yr\n",
    "pm_err = np.vstack((tgas['pmra_error'], tgas['pmdec_error'])) * u.mas/u.yr"
   ]
  },
  {
   "cell_type": "code",
   "execution_count": null,
   "metadata": {
    "collapsed": false
   },
   "outputs": [],
   "source": [
    "pm_mag = np.sqrt(np.sum(pm**2, axis=0))"
   ]
  },
  {
   "cell_type": "code",
   "execution_count": null,
   "metadata": {
    "collapsed": false
   },
   "outputs": [],
   "source": [
    "plt.figure(figsize=(10,10))\n",
    "\n",
    "H,xedg,yedge = np.histogram2d(np.log(parallax.to(u.mas).value), np.log(pm_mag.to(u.mas/u.yr).value), \n",
    "                              bins=(np.linspace(-5,7,128), np.linspace(-3,9,128)))\n",
    "\n",
    "plt.imshow(np.log(H.T), cmap='Blues')\n",
    "\n",
    "# plt.plot(np.log(parallax.to(u.mas).value), \n",
    "#          np.log(pm_mag.to(u.mas/u.yr).value), \n",
    "#          linestyle='none', alpha=0.1, marker=',')\n",
    "\n",
    "# plt.xlim(-5, 7.)\n",
    "# plt.ylim(-3, 9.)\n",
    "\n",
    "plt.xlabel(r'$\\log\\,\\varpi$')\n",
    "plt.ylabel(r'$\\log\\,\\mu$')"
   ]
  },
  {
   "cell_type": "markdown",
   "metadata": {},
   "source": [
    "---"
   ]
  },
  {
   "cell_type": "code",
   "execution_count": null,
   "metadata": {
    "collapsed": false
   },
   "outputs": [],
   "source": [
    "tgas_rave = fits.getdata('../data/tgas-rave.fits', 1)\n",
    "\n",
    "clean_idx = ((np.abs(tgas_rave['parallax'] / tgas_rave['parallax_error']) > 2) & \n",
    "             (np.abs(tgas_rave['HRV'] / tgas_rave['eHRV']) > 2) & \n",
    "             (tgas_rave['Fe_H'] > -0.5))\n",
    "\n",
    "clean_tgas_rave = tgas_rave[clean_idx]\n",
    "len(clean_tgas_rave)"
   ]
  },
  {
   "cell_type": "code",
   "execution_count": null,
   "metadata": {
    "collapsed": false
   },
   "outputs": [],
   "source": [
    "plt.hist(clean_tgas_rave['Fe_H'], bins=np.linspace(-0.5, 1., 32));"
   ]
  },
  {
   "cell_type": "code",
   "execution_count": null,
   "metadata": {
    "collapsed": false
   },
   "outputs": [],
   "source": [
    "tgas_rave_c = coord.SkyCoord(ra=clean_tgas_rave['ra']*u.deg, \n",
    "                             dec=clean_tgas_rave['dec']*u.deg, \n",
    "                             distance=(clean_tgas_rave['parallax']*u.mas).to(u.kpc, equivalencies=u.parallax()))\n",
    "xyz = tgas_rave_c.transform_to(coord.Galactocentric).represent_as(coord.CartesianRepresentation).xyz\n",
    "cyl = tgas_rave_c.transform_to(coord.Galactocentric).represent_as(coord.CylindricalRepresentation)"
   ]
  },
  {
   "cell_type": "code",
   "execution_count": null,
   "metadata": {
    "collapsed": true
   },
   "outputs": [],
   "source": [
    "pm = np.vstack((clean_tgas_rave['pmra'], clean_tgas_rave['pmdec'])) * u.mas/u.yr\n",
    "rv = clean_tgas_rave['HRV'] * u.km/u.s"
   ]
  },
  {
   "cell_type": "code",
   "execution_count": null,
   "metadata": {
    "collapsed": true
   },
   "outputs": [],
   "source": [
    "UVW = gc.vhel_to_gal(tgas_rave_c, pm=pm, rv=rv, vlsr=[0,0,0]*u.km/u.s)"
   ]
  },
  {
   "cell_type": "code",
   "execution_count": null,
   "metadata": {
    "collapsed": false
   },
   "outputs": [],
   "source": [
    "fig,ax = plt.subplots(1,1,figsize=(10,10))\n",
    "ax.scatter(xyz[0], xyz[1], c=UVW[2], s=4, marker=',',\n",
    "           cmap='plasma', vmin=-50, vmax=50)\n",
    "ax.set_xlim(-9.2, -7.4)\n",
    "ax.set_ylim(-0.9, 0.9)"
   ]
  },
  {
   "cell_type": "code",
   "execution_count": null,
   "metadata": {
    "collapsed": false
   },
   "outputs": [],
   "source": [
    "fig,axes = plt.subplots(1,3,figsize=(15,5), sharex=True, sharey=True)\n",
    "\n",
    "axes[0].scatter(xyz[0][np.abs(xyz[1])<0.1*u.kpc], \n",
    "                xyz[2][np.abs(xyz[1])<0.1*u.kpc], \n",
    "                c=UVW[0][np.abs(xyz[1])<0.1*u.kpc], s=2, marker=',',alpha=0.5, \n",
    "                cmap='RdBu', vmin=-50, vmax=50)\n",
    "axes[0].set_xlim(-9.2, -7.4)\n",
    "axes[0].set_ylim(-0.9, 0.9)\n",
    "axes[0].set_title(\"$v_x$\")\n",
    "\n",
    "axes[1].scatter(xyz[0][np.abs(xyz[1])<0.1*u.kpc], \n",
    "                xyz[2][np.abs(xyz[1])<0.1*u.kpc], \n",
    "                c=UVW[1][np.abs(xyz[1])<0.1*u.kpc]-220*u.km/u.s, s=2, marker=',', alpha=0.5, \n",
    "                cmap='RdBu', vmin=-50, vmax=50)\n",
    "axes[1].set_title(\"$v_y$\")\n",
    "\n",
    "axes[2].scatter(xyz[0][np.abs(xyz[1])<0.1*u.kpc], \n",
    "                xyz[2][np.abs(xyz[1])<0.1*u.kpc], \n",
    "                c=UVW[2][np.abs(xyz[1])<0.1*u.kpc], s=2, marker=',',alpha=0.5, \n",
    "                cmap='RdBu', vmin=-50, vmax=50)\n",
    "axes[2].set_title(\"$v_z$\")\n",
    "\n",
    "for ax in axes:\n",
    "    ax.set_xlabel(\"$x$ [kpc]\")\n",
    "axes[0].set_ylabel(\"$z$ [kpc]\")\n",
    "\n",
    "fig.tight_layout()"
   ]
  },
  {
   "cell_type": "code",
   "execution_count": null,
   "metadata": {
    "collapsed": true
   },
   "outputs": [],
   "source": []
  }
 ],
 "metadata": {
  "anaconda-cloud": {},
  "kernelspec": {
   "display_name": "Python [conda env:three]",
   "language": "python",
   "name": "conda-env-three-py"
  },
  "language_info": {
   "codemirror_mode": {
    "name": "ipython",
    "version": 3
   },
   "file_extension": ".py",
   "mimetype": "text/x-python",
   "name": "python",
   "nbconvert_exporter": "python",
   "pygments_lexer": "ipython3",
   "version": "3.5.2"
  }
 },
 "nbformat": 4,
 "nbformat_minor": 1
}