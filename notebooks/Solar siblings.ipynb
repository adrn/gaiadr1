{
 "cells": [
  {
   "cell_type": "code",
   "execution_count": null,
   "metadata": {
    "collapsed": true
   },
   "outputs": [],
   "source": [
    "import os\n",
    "\n",
    "from astropy.io import fits\n",
    "import astropy.coordinates as coord\n",
    "import astropy.units as u\n",
    "import h5py\n",
    "\n",
    "from gala.observation import apparent_magnitude\n",
    "import gala.dynamics as gd\n",
    "import gala.coordinates as gc\n",
    "import numpy as np\n",
    "\n",
    "import matplotlib.pyplot as plt\n",
    "from mpl_toolkits.mplot3d import Axes3D\n",
    "plt.style.use('apw-notebook')\n",
    "%matplotlib inline"
   ]
  },
  {
   "cell_type": "code",
   "execution_count": null,
   "metadata": {
    "collapsed": true
   },
   "outputs": [],
   "source": [
    "tgas_path = os.path.abspath(\"../data/tgas.hdf5\")"
   ]
  },
  {
   "cell_type": "code",
   "execution_count": null,
   "metadata": {
    "collapsed": true
   },
   "outputs": [],
   "source": [
    "with h5py.File(tgas_path, 'r') as f:\n",
    "    tgas = f['tgas'][:]"
   ]
  },
  {
   "cell_type": "code",
   "execution_count": null,
   "metadata": {
    "collapsed": true
   },
   "outputs": [],
   "source": [
    "tgas_c = coord.SkyCoord(ra=tgas['ra']*u.degree, dec=tgas['dec']*u.degree)"
   ]
  },
  {
   "cell_type": "code",
   "execution_count": null,
   "metadata": {
    "collapsed": false
   },
   "outputs": [],
   "source": [
    "plt.figure(figsize=(8,8))\n",
    "plt.plot(tgas['parallax'], tgas['pmra']**2 + tgas['pmdec']**2, ls='none', alpha=0.2)\n",
    "plt.xlim(4, 50)\n",
    "plt.ylim(0, 1**2)\n",
    "plt.axhline(2*0.3**2)\n",
    "plt.xlabel(r'$\\varpi$ [mas]')\n",
    "plt.ylabel(r'$\\mu_\\alpha^2+\\mu_\\delta^2$ [${\\rm mas}^2/{\\rm yr}^2$]')"
   ]
  },
  {
   "cell_type": "code",
   "execution_count": null,
   "metadata": {
    "collapsed": false
   },
   "outputs": [],
   "source": [
    "plt.figure(figsize=(8,8))\n",
    "\n",
    "yerr = np.sqrt((2*tgas['pmra'])**2*tgas['pmra_error']**2 + (2*tgas['pmdec'])**2*tgas['pmdec_error']**2)\n",
    "pm_mag = (tgas['pmra']**2 + tgas['pmdec']**2)\n",
    "\n",
    "xlim = (0,100)\n",
    "\n",
    "_ix = ((tgas['parallax'] > xlim[0]) & (tgas['parallax'] < xlim[1]) &\n",
    "       ((tgas['pmra']**2 + tgas['pmdec']**2) < 1.) & \n",
    "       (yerr < 1.))\n",
    "plt.errorbar(tgas['parallax'][_ix], pm_mag[_ix], \n",
    "             xerr=tgas['parallax_error'][_ix], yerr=yerr[_ix],\n",
    "             ls='none', alpha=0.2)\n",
    "plt.xlim(*xlim)\n",
    "plt.ylim(0, 1**2)\n",
    "plt.axhline(2*0.3**2)\n",
    "plt.xlabel(r'$\\varpi$ [mas]')\n",
    "plt.ylabel(r'$\\mu_\\alpha^2+\\mu_\\delta^2$ [${\\rm mas}^2/{\\rm yr}^2$]')"
   ]
  },
  {
   "cell_type": "markdown",
   "metadata": {},
   "source": [
    "This star is HD 168442"
   ]
  },
  {
   "cell_type": "code",
   "execution_count": null,
   "metadata": {
    "collapsed": false
   },
   "outputs": [],
   "source": [
    "nearby_low_pm_idx = ((tgas['parallax'] > 40) & (pm_mag < 4*0.3**2) & _ix)\n",
    "nearby_low_pm_idx.sum()"
   ]
  },
  {
   "cell_type": "code",
   "execution_count": null,
   "metadata": {
    "collapsed": false
   },
   "outputs": [],
   "source": [
    "nearby = tgas[nearby_low_pm_idx]\n",
    "nearby_c = coord.SkyCoord(ra=nearby['ra']*u.deg, dec=nearby['dec']*u.deg)"
   ]
  },
  {
   "cell_type": "markdown",
   "metadata": {},
   "source": [
    "---"
   ]
  },
  {
   "cell_type": "code",
   "execution_count": null,
   "metadata": {
    "collapsed": false
   },
   "outputs": [],
   "source": [
    "nearby_low_pm_idx = ((tgas['parallax'] > 8) & (pm_mag < 4*0.3**2) & _ix)\n",
    "nearby_low_pm_idx.sum()"
   ]
  },
  {
   "cell_type": "code",
   "execution_count": null,
   "metadata": {
    "collapsed": false
   },
   "outputs": [],
   "source": [
    "nearby = tgas[nearby_low_pm_idx]\n",
    "np.vstack((nearby['ra'], nearby['dec'])).T"
   ]
  },
  {
   "cell_type": "code",
   "execution_count": null,
   "metadata": {
    "collapsed": true
   },
   "outputs": [],
   "source": []
  }
 ],
 "metadata": {
  "anaconda-cloud": {},
  "kernelspec": {
   "display_name": "Python [conda env:three]",
   "language": "python",
   "name": "conda-env-three-py"
  },
  "language_info": {
   "codemirror_mode": {
    "name": "ipython",
    "version": 3
   },
   "file_extension": ".py",
   "mimetype": "text/x-python",
   "name": "python",
   "nbconvert_exporter": "python",
   "pygments_lexer": "ipython3",
   "version": "3.5.2"
  }
 },
 "nbformat": 4,
 "nbformat_minor": 1
}